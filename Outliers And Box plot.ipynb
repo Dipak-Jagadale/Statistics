{
 "cells": [
  {
   "cell_type": "markdown",
   "id": "c286fd87",
   "metadata": {},
   "source": [
    "# Outliers and boxplot"
   ]
  },
  {
   "cell_type": "markdown",
   "id": "d95e6c4c",
   "metadata": {},
   "source": [
    "# IQR = Inter Quantile range"
   ]
  },
  {
   "cell_type": "code",
   "execution_count": 1,
   "id": "6ab7cc84",
   "metadata": {},
   "outputs": [],
   "source": [
    "import numpy as np\n",
    "import matplotlib.pyplot as plt\n",
    "%matplotlib inline"
   ]
  },
  {
   "cell_type": "code",
   "execution_count": 22,
   "id": "6789334f",
   "metadata": {},
   "outputs": [],
   "source": [
    "## Define our dataset\n",
    "dataset=[11,10,12,14,12,15,13,14,15,102,12,14,19,14,107,10,13,14,12,108,12,11,13,14,15,10,15,12,10,14,13,15,10]"
   ]
  },
  {
   "cell_type": "code",
   "execution_count": 23,
   "id": "70cf3a08",
   "metadata": {},
   "outputs": [
    {
     "data": {
      "text/plain": [
       "(array([30.,  0.,  0.,  0.,  0.,  0.,  0.,  0.,  0.,  3.]),\n",
       " array([ 10. ,  19.8,  29.6,  39.4,  49.2,  59. ,  68.8,  78.6,  88.4,\n",
       "         98.2, 108. ]),\n",
       " <BarContainer object of 10 artists>)"
      ]
     },
     "execution_count": 23,
     "metadata": {},
     "output_type": "execute_result"
    },
    {
     "data": {
      "image/png": "[encoded data removed]",
      "text/plain": [
       "<Figure size 640x480 with 1 Axes>"
      ]
     },
     "metadata": {},
     "output_type": "display_data"
    }
   ],
   "source": [
    "plt.hist(dataset)"
   ]
  },
  {
   "cell_type": "code",
   "execution_count": 24,
   "id": "e21d37d5",
   "metadata": {},
   "outputs": [],
   "source": [
    "# Z-Score\n",
    "outliers=[]\n",
    "def detect_outliers(data):\n",
    "    threshold=3 ## 3rd stadard deviation\n",
    "    mean=np.mean(data)\n",
    "    std=np.std(data)\n",
    "    \n",
    "    for i in data:\n",
    "        z_score=(i-mean)/std\n",
    "        if np.abs(z_score)>threshold:\n",
    "            outliers.append(i)\n",
    "    return outliers\n"
   ]
  },
  {
   "cell_type": "code",
   "execution_count": 25,
   "id": "ab103935",
   "metadata": {},
   "outputs": [
    {
     "data": {
      "text/plain": [
       "[102, 107, 108]"
      ]
     },
     "execution_count": 25,
     "metadata": {},
     "output_type": "execute_result"
    }
   ],
   "source": [
    "detect_outliers(dataset)"
   ]
  },
  {
   "cell_type": "markdown",
   "id": "ca24d79d",
   "metadata": {},
   "source": [
    "## IQR =  Inter Quantile range"
   ]
  },
  {
   "cell_type": "markdown",
   "id": "3e37179f",
   "metadata": {},
   "source": [
    "##  IQR \n",
    "\n",
    "1) sort the data\n",
    "2)calculate Q1(25%)and Q3 (75%)\n",
    "3)IQR (Q3-Q1)\n",
    "4)Find the lower Fence(q1-1.5(IQR)\n",
    "5)Find the upper Fence (q3+1.5(IQR)"
   ]
  },
  {
   "cell_type": "code",
   "execution_count": 27,
   "id": "887c4334",
   "metadata": {},
   "outputs": [],
   "source": [
    "## sort\n",
    "dataset = sorted(dataset)"
   ]
  },
  {
   "cell_type": "code",
   "execution_count": 28,
   "id": "ab4f1ba8",
   "metadata": {},
   "outputs": [
    {
     "data": {
      "text/plain": [
       "[10,\n",
       " 10,\n",
       " 10,\n",
       " 10,\n",
       " 10,\n",
       " 11,\n",
       " 11,\n",
       " 12,\n",
       " 12,\n",
       " 12,\n",
       " 12,\n",
       " 12,\n",
       " 12,\n",
       " 13,\n",
       " 13,\n",
       " 13,\n",
       " 13,\n",
       " 14,\n",
       " 14,\n",
       " 14,\n",
       " 14,\n",
       " 14,\n",
       " 14,\n",
       " 14,\n",
       " 15,\n",
       " 15,\n",
       " 15,\n",
       " 15,\n",
       " 15,\n",
       " 19,\n",
       " 102,\n",
       " 107,\n",
       " 108]"
      ]
     },
     "execution_count": 28,
     "metadata": {},
     "output_type": "execute_result"
    }
   ],
   "source": [
    "dataset"
   ]
  },
  {
   "cell_type": "code",
   "execution_count": 29,
   "id": "16af4ba9",
   "metadata": {},
   "outputs": [
    {
     "name": "stdout",
     "output_type": "stream",
     "text": [
      "12.0 15.0\n"
     ]
    }
   ],
   "source": [
    "q1,q3=np.percentile(dataset,[25,75])\n",
    "print(q1,q3)"
   ]
  },
  {
   "cell_type": "code",
   "execution_count": 30,
   "id": "d635d766",
   "metadata": {},
   "outputs": [
    {
     "name": "stdout",
     "output_type": "stream",
     "text": [
      "3.0\n"
     ]
    }
   ],
   "source": [
    "IQR=q3-q1\n",
    "print(IQR)"
   ]
  },
  {
   "cell_type": "code",
   "execution_count": 31,
   "id": "da28d7d7",
   "metadata": {},
   "outputs": [
    {
     "name": "stdout",
     "output_type": "stream",
     "text": [
      "7.5 19.5\n"
     ]
    }
   ],
   "source": [
    "## find the lower fence and upper fence \n",
    "lower_fence =q1-1.5*IQR\n",
    "upper_fence = q3+1.5*IQR\n",
    "print(lower_fence,upper_fence)"
   ]
  },
  {
   "cell_type": "code",
   "execution_count": null,
   "id": "1e8ad56f",
   "metadata": {},
   "outputs": [],
   "source": [
    "import seaborn "
   ]
  }
 ],
 "metadata": {
  "kernelspec": {
   "display_name": "Python 3 (ipykernel)",
   "language": "python",
   "name": "python3"
  },
  "language_info": {
   "codemirror_mode": {
    "name": "ipython",
    "version": 3
   },
   "file_extension": ".py",
   "mimetype": "text/x-python",
   "name": "python",
   "nbconvert_exporter": "python",
   "pygments_lexer": "ipython3",
   "version": "3.11.2"
  }
 },
 "nbformat": 4,
 "nbformat_minor": 5
}
