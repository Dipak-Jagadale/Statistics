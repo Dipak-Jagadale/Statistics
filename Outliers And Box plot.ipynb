{
 "cells": [
  {
   "cell_type": "markdown",
   "id": "40e0477a",
   "metadata": {},
   "source": [
    "# Outliers and boxplot"
   ]
  },
  {
   "cell_type": "code",
   "execution_count": 1,
   "id": "98cddfe6",
   "metadata": {},
   "outputs": [],
   "source": [
    "import numpy as np\n",
    "import matplotlib.pyplot as plt\n",
    "%matplotlib inline"
   ]
  },
  {
   "cell_type": "code",
   "execution_count": 2,
   "id": "1254d15f",
   "metadata": {},
   "outputs": [],
   "source": [
    "## Define our dataset\n",
    "dataset=[11,10,12,14,12,15,13,14,15,102,12,14,19,14,107,10,13,14,12,108,12,11,13,1415,10,15,12,10,14,13,15,10]"
   ]
  },
  {
   "cell_type": "code",
   "execution_count": 3,
   "id": "dfc374a8",
   "metadata": {},
   "outputs": [
    {
     "data": {
      "text/plain": [
       "(array([31.,  0.,  0.,  0.,  0.,  0.,  0.,  0.,  0.,  1.]),\n",
       " array([  10. ,  150.5,  291. ,  431.5,  572. ,  712.5,  853. ,  993.5,\n",
       "        1134. , 1274.5, 1415. ]),\n",
       " <BarContainer object of 10 artists>)"
      ]
     },
     "execution_count": 3,
     "metadata": {},
     "output_type": "execute_result"
    },
    {
     "data": {
      "image/png": "[encoded data removed]",
      "text/plain": [
       "<Figure size 640x480 with 1 Axes>"
      ]
     },
     "metadata": {},
     "output_type": "display_data"
    }
   ],
   "source": [
    "plt.hist(dataset)"
   ]
  },
  {
   "cell_type": "code",
   "execution_count": 18,
   "id": "31040e93",
   "metadata": {},
   "outputs": [],
   "source": [
    "# Z-Score\n",
    "outlires=[]\n",
    "def detect_outliers(data):\n",
    "    threshold=3 ## 3rd stadard deviation\n",
    "    mean=np.mean(data)\n",
    "    std=np.std(data)\n",
    "    \n",
    "    for i in data:\n",
    "        z_score=(i-mean)/std\n",
    "        if np.abs(z_score)>threshold:\n",
    "            outliers.append(i)\n",
    "    return outliers\n"
   ]
  },
  {
   "cell_type": "code",
   "execution_count": 19,
   "id": "d8d3a5df",
   "metadata": {},
   "outputs": [
    {
     "ename": "NameError",
     "evalue": "name 'outliers' is not defined",
     "output_type": "error",
     "traceback": [
      "\u001b[1;31m---------------------------------------------------------------------------\u001b[0m",
      "\u001b[1;31mNameError\u001b[0m                                 Traceback (most recent call last)",
      "Cell \u001b[1;32mIn [19], line 1\u001b[0m\n\u001b[1;32m----> 1\u001b[0m \u001b[43mdetect_outliers\u001b[49m\u001b[43m(\u001b[49m\u001b[43mdataset\u001b[49m\u001b[43m)\u001b[49m\n",
      "Cell \u001b[1;32mIn [18], line 11\u001b[0m, in \u001b[0;36mdetect_outliers\u001b[1;34m(data)\u001b[0m\n\u001b[0;32m      9\u001b[0m     z_score\u001b[38;5;241m=\u001b[39m(i\u001b[38;5;241m-\u001b[39mmean)\u001b[38;5;241m/\u001b[39mstd\n\u001b[0;32m     10\u001b[0m     \u001b[38;5;28;01mif\u001b[39;00m np\u001b[38;5;241m.\u001b[39mabs(z_score)\u001b[38;5;241m>\u001b[39mthreshold:\n\u001b[1;32m---> 11\u001b[0m         \u001b[43moutliers\u001b[49m\u001b[38;5;241m.\u001b[39mappend(i)\n\u001b[0;32m     12\u001b[0m \u001b[38;5;28;01mreturn\u001b[39;00m outliers\n",
      "\u001b[1;31mNameError\u001b[0m: name 'outliers' is not defined"
     ]
    }
   ],
   "source": [
    "detect_outliers(dataset)"
   ]
  },
  {
   "cell_type": "code",
   "execution_count": null,
   "id": "79b12216",
   "metadata": {},
   "outputs": [],
   "source": []
  },
  {
   "cell_type": "code",
   "execution_count": null,
   "id": "a649e518",
   "metadata": {},
   "outputs": [],
   "source": []
  }
 ],
 "metadata": {
  "kernelspec": {
   "display_name": "Python 3 (ipykernel)",
   "language": "python",
   "name": "python3"
  },
  "language_info": {
   "codemirror_mode": {
    "name": "ipython",
    "version": 3
   },
   "file_extension": ".py",
   "mimetype": "text/x-python",
   "name": "python",
   "nbconvert_exporter": "python",
   "pygments_lexer": "ipython3",
   "version": "3.11.2"
  }
 },
 "nbformat": 4,
 "nbformat_minor": 5
}
