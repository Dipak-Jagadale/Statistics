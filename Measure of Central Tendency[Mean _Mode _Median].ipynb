{
 "cells": [
  {
   "cell_type": "markdown",
   "id": "1fc16403",
   "metadata": {},
   "source": [
    "# Measure of central Tendency "
   ]
  },
  {
   "cell_type": "markdown",
   "id": "4b7b12ba",
   "metadata": {},
   "source": [
    "## 1)Mean\n",
    "## 2)median \n",
    "## 3)mode"
   ]
  },
  {
   "cell_type": "code",
   "execution_count": 1,
   "id": "820e6b1f",
   "metadata": {},
   "outputs": [],
   "source": [
    "ages = [22,24,32,45,12,43,47,45,32,56,32]"
   ]
  },
  {
   "cell_type": "code",
   "execution_count": 2,
   "id": "7afdab5e",
   "metadata": {},
   "outputs": [
    {
     "name": "stdout",
     "output_type": "stream",
     "text": [
      "35.45454545454545\n",
      "32.0\n"
     ]
    }
   ],
   "source": [
    "import numpy as np\n",
    "print(np.mean(ages))\n",
    "print(np.median(ages))"
   ]
  },
  {
   "cell_type": "code",
   "execution_count": null,
   "id": "ff91500c",
   "metadata": {},
   "outputs": [],
   "source": []
  }
 ],
 "metadata": {
  "kernelspec": {
   "display_name": "Python 3 (ipykernel)",
   "language": "python",
   "name": "python3"
  },
  "language_info": {
   "codemirror_mode": {
    "name": "ipython",
    "version": 3
   },
   "file_extension": ".py",
   "mimetype": "text/x-python",
   "name": "python",
   "nbconvert_exporter": "python",
   "pygments_lexer": "ipython3",
   "version": "3.11.2"
  }
 },
 "nbformat": 4,
 "nbformat_minor": 5
}
